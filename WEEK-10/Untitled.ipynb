{
 "cells": [
  {
   "cell_type": "code",
   "execution_count": 5,
   "id": "4cc4907f",
   "metadata": {},
   "outputs": [
    {
     "name": "stdout",
     "output_type": "stream",
     "text": [
      "\n",
      "1 for trapezium, \n",
      "2 for rhombus, \n",
      "3 for pallelogram, \n",
      "4 for cube, \n",
      "5 for cylinder 1\n",
      "1\n",
      "None\n"
     ]
    }
   ],
   "source": [
    "class Equation():\n",
    "    def Trapezium(self):\n",
    "        A = print(float(input(\"What is your height\")))\n",
    "        B = print(float(input(\"What is your first base\")))\n",
    "        C = print(float(input(\"What is your Second base\")))\n",
    "        D = print(float((A/2)*(B + C)))\n",
    "        print(A)\n",
    "        print(B)\n",
    "        print(C)\n",
    "        print(D)\n",
    "        \n",
    "    def rhombus(self):\n",
    "        A = float(input(\"What is your first diagonal\"))\n",
    "        B = float(input(\"What is your second diagonal\"))\n",
    "        C = float((A * B)/2)\n",
    "        print(A)\n",
    "        print(B)\n",
    "        print(C)\n",
    "    \n",
    "    def parallelogram(self):\n",
    "        A = float(input(\"What is your base\"))\n",
    "        B = float(input(\"What is your altitude\"))\n",
    "        C = float((A * B))\n",
    "        print(A)\n",
    "        print(B)\n",
    "        print(C)\n",
    "    def cube(self):\n",
    "        A = float(input(\"What is your length\"))\n",
    "        B = float((6 * (A**2)))\n",
    "        print(A)\n",
    "        print(B)\n",
    "        \n",
    "    def cylinder(self):\n",
    "        A = float(input(\"What is your radius\"))\n",
    "        B = float(input(\"What is your height\"))\n",
    "        C = float((22/7)*(A**2)*B)\n",
    "        print(A)\n",
    "        print(B)\n",
    "        print(C)\n",
    "d = Equation()\n",
    "\n",
    "E = print(input(\"\\n1 for trapezium, \\n2 for rhombus, \\n3 for pallelogram, \\n4 for cube, \\n5 for cylinder \"))\n",
    "if E == 1:\n",
    "    d.Trapezium()\n",
    "elif E == 2:\n",
    "    d.rhombus()\n",
    "elif E == 3:\n",
    "    d.parallelogram()\n",
    "elif E == 4:\n",
    "    d.cube()\n",
    "elif E == 5:\n",
    "    d.cylinder()\n",
    "print(E)\n",
    "\n"
   ]
  },
  {
   "cell_type": "code",
   "execution_count": 11,
   "id": "e2c03d64",
   "metadata": {},
   "outputs": [
    {
     "name": "stdout",
     "output_type": "stream",
     "text": [
      "10\n"
     ]
    }
   ],
   "source": [
    "A = 5*2\n",
    "print(A)"
   ]
  },
  {
   "cell_type": "code",
   "execution_count": 2,
   "id": "0ee9c2f1",
   "metadata": {},
   "outputs": [
    {
     "ename": "NameError",
     "evalue": "name 'self' is not defined",
     "output_type": "error",
     "traceback": [
      "\u001b[1;31m---------------------------------------------------------------------------\u001b[0m",
      "\u001b[1;31mNameError\u001b[0m                                 Traceback (most recent call last)",
      "Cell \u001b[1;32mIn[2], line 1\u001b[0m\n\u001b[1;32m----> 1\u001b[0m \u001b[38;5;28;01mclass\u001b[39;00m \u001b[38;5;21;01mEquation\u001b[39;00m():\n\u001b[0;32m      3\u001b[0m     \u001b[38;5;28;01mdef\u001b[39;00m \u001b[38;5;21moption\u001b[39m(\u001b[38;5;28mself\u001b[39m):\n\u001b[0;32m      4\u001b[0m         attr1 \u001b[38;5;241m=\u001b[39m \u001b[38;5;124m\"\u001b[39m\u001b[38;5;124mtrapezium\u001b[39m\u001b[38;5;124m\"\u001b[39m\n",
      "Cell \u001b[1;32mIn[2], line 9\u001b[0m, in \u001b[0;36mEquation\u001b[1;34m()\u001b[0m\n\u001b[0;32m      7\u001b[0m     attr4 \u001b[38;5;241m=\u001b[39m \u001b[38;5;124m\"\u001b[39m\u001b[38;5;124mcube\u001b[39m\u001b[38;5;124m\"\u001b[39m\n\u001b[0;32m      8\u001b[0m     attr5 \u001b[38;5;241m=\u001b[39m \u001b[38;5;124m\"\u001b[39m\u001b[38;5;124mcylinder\u001b[39m\u001b[38;5;124m\"\u001b[39m\n\u001b[1;32m----> 9\u001b[0m \u001b[38;5;28mprint\u001b[39m(\u001b[38;5;124m\"\u001b[39m\u001b[38;5;124m1 for\u001b[39m\u001b[38;5;124m\"\u001b[39m, \u001b[38;5;28;43mself\u001b[39;49m\u001b[38;5;241m.\u001b[39mattr1)\n\u001b[0;32m     10\u001b[0m \u001b[38;5;28mprint\u001b[39m(\u001b[38;5;124m\"\u001b[39m\u001b[38;5;124m2 for\u001b[39m\u001b[38;5;124m\"\u001b[39m, \u001b[38;5;28mself\u001b[39m\u001b[38;5;241m.\u001b[39mattr2)\n\u001b[0;32m     11\u001b[0m \u001b[38;5;28mprint\u001b[39m(\u001b[38;5;124m\"\u001b[39m\u001b[38;5;124m3 for\u001b[39m\u001b[38;5;124m\"\u001b[39m, \u001b[38;5;28mself\u001b[39m\u001b[38;5;241m.\u001b[39mattr3)\n",
      "\u001b[1;31mNameError\u001b[0m: name 'self' is not defined"
     ]
    }
   ],
   "source": [
    "class Equation():\n",
    "    \n",
    "    def option(self):\n",
    "        attr1 = \"trapezium\"\n",
    "        attr2 = \"rhombus\"\n",
    "        attr3 = \"pallelogram\"\n",
    "        attr4 = \"cube\"\n",
    "        attr5 = \"cylinder\"\n",
    "    print(\"1 for\", self.attr1)\n",
    "    print(\"2 for\", self.attr2)\n",
    "    print(\"3 for\", self.attr3)\n",
    "    print(\"4 for\", self.attr4)\n",
    "    print(\"5 for\", self.attr5)\n",
    "    print(input(\"What formula do you need\"))\n",
    "d = Equation()\n",
    "d.option()"
   ]
  },
  {
   "cell_type": "code",
   "execution_count": 15,
   "id": "bc61bdc9",
   "metadata": {},
   "outputs": [
    {
     "ename": "IndentationError",
     "evalue": "unindent does not match any outer indentation level (<tokenize>, line 9)",
     "output_type": "error",
     "traceback": [
      "\u001b[1;36m  File \u001b[1;32m<tokenize>:9\u001b[1;36m\u001b[0m\n\u001b[1;33m    def rhombus(self):\u001b[0m\n\u001b[1;37m    ^\u001b[0m\n\u001b[1;31mIndentationError\u001b[0m\u001b[1;31m:\u001b[0m unindent does not match any outer indentation level\n"
     ]
    }
   ],
   "source": [
    "class Equation():\n",
    "        def Trapezium(self):\n",
    "        A = float(input(\"What is your height\"))\n",
    "        B = float(input(\"What is your first base\"))\n",
    "        C = float(input(\"What is your Second base\"))\n",
    "        D = float((A/2)*(B + C))\n",
    "        print(D)\n",
    "        \n",
    "        def rhombus(self):\n",
    "        A = float(input(\"What is your first diagonal\"))\n",
    "        B = float(input(\"What is your second diagonal\"))\n",
    "        C = float((A * B)/2)\n",
    "        print(C)\n",
    "    \n",
    "    def parallelogram(self):\n",
    "        A = float(input(\"What is your base\"))\n",
    "        B = float(input(\"What is your altitude\"))\n",
    "        C = float((A * B))\n",
    "        print(c)\n",
    "    def cube(self):\n",
    "        A = float(input(\"What is your length\"))\n",
    "        B = float((6 * (A**2)))\n",
    "        print(b)\n",
    "        \n",
    "    def cylinder(self):\n",
    "        A = float(input(\"What is your radius\"))\n",
    "        B = float(input(\"What is your height\"))\n",
    "        C = float((22/7)*(A**2)*B)\n",
    "        print(c)\n",
    "        \n",
    "E = print(input(\"\\n1 for trapezium, \\n2 for rhombus, \\n3 for pallelogram, \\n4 for cube, \\n5 for cylinder \"))\n",
    "    if E == 1:\n",
    "        d.Trapezium\n",
    "    elif E == 2:\n",
    "        d.rhombus\n",
    "    elif E == 3:\n",
    "        d.parallelogram\n",
    "    elif E == 4:\n",
    "        d.cube\n",
    "    elif E == 5:\n",
    "        d.cylinder\n",
    "print(E)\n",
    "d = Equation()\n"
   ]
  },
  {
   "cell_type": "code",
   "execution_count": null,
   "id": "8c3a9b2b",
   "metadata": {},
   "outputs": [],
   "source": []
  }
 ],
 "metadata": {
  "kernelspec": {
   "display_name": "Python 3 (ipykernel)",
   "language": "python",
   "name": "python3"
  },
  "language_info": {
   "codemirror_mode": {
    "name": "ipython",
    "version": 3
   },
   "file_extension": ".py",
   "mimetype": "text/x-python",
   "name": "python",
   "nbconvert_exporter": "python",
   "pygments_lexer": "ipython3",
   "version": "3.10.9"
  }
 },
 "nbformat": 4,
 "nbformat_minor": 5
}
