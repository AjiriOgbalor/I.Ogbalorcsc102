{
 "cells": [
  {
   "cell_type": "code",
   "execution_count": 6,
   "id": "43745d83",
   "metadata": {},
   "outputs": [
    {
     "name": "stdout",
     "output_type": "stream",
     "text": [
      "\n",
      "1 for trapezium, \n",
      "2 for rhombus, \n",
      "3 for pallelogram, \n",
      "4 for cube, \n",
      "5 for cylinder 4\n",
      "4\n"
     ]
    },
    {
     "ename": "TypeError",
     "evalue": "Equation.option() missing 1 required positional argument: 'self'",
     "output_type": "error",
     "traceback": [
      "\u001b[1;31m---------------------------------------------------------------------------\u001b[0m",
      "\u001b[1;31mTypeError\u001b[0m                                 Traceback (most recent call last)",
      "Cell \u001b[1;32mIn[6], line 14\u001b[0m\n\u001b[0;32m     12\u001b[0m         \u001b[38;5;28mprint\u001b[39m(\u001b[38;5;28minput\u001b[39m(\u001b[38;5;124m\"\u001b[39m\u001b[38;5;124mwhat is your second base\u001b[39m\u001b[38;5;124m\"\u001b[39m))\n\u001b[0;32m     13\u001b[0m d \u001b[38;5;241m=\u001b[39m Equation\n\u001b[1;32m---> 14\u001b[0m \u001b[43md\u001b[49m\u001b[38;5;241;43m.\u001b[39;49m\u001b[43moption\u001b[49m\u001b[43m(\u001b[49m\u001b[43m)\u001b[49m\n",
      "\u001b[1;31mTypeError\u001b[0m: Equation.option() missing 1 required positional argument: 'self'"
     ]
    }
   ],
   "source": [
    "class Equation():\n",
    "    def option(self):\n",
    "        attr1 = \"trapezium\"\n",
    "        attr1 = \"rhombus\"\n",
    "        attr1 = \"pallelogram\"\n",
    "        attr1 = \"cube\"\n",
    "        attr1 = \"cylinder\"\n",
    "    a = print(input(\"\\n1 for trapezium, \\n2 for rhombus, \\n3 for pallelogram, \\n4 for cube, \\n5 for cylinder \"))\n",
    "    if a == 1:\n",
    "        print(input(\"What is you height\"))\n",
    "        print(input(\"What is your first base\"))\n",
    "        print(input(\"what is your second base\"))\n",
    "d = Equation"
   ]
  },
  {
   "cell_type": "code",
   "execution_count": null,
   "id": "99a28e8d",
   "metadata": {},
   "outputs": [],
   "source": [
    "class Equation():\n",
    "        def Trapezium(self):\n",
    "        A = float(input(\"What is your height\"))\n",
    "        B = float(input(\"What is your first base\"))\n",
    "        C = float(input(\"What is your Second base\"))\n",
    "        D = float((A/2)*(B + C))\n",
    "        print(D)\n",
    "        \n",
    "    def rhombus(self):\n",
    "        A = float(input(\"What is your first diagonal\"))\n",
    "        B = float(input(\"What is your second diagonal\"))\n",
    "        C = float((A * B)/2)\n",
    "        print(C)\n",
    "    \n",
    "    def parallelogram(self):\n",
    "        A = float(input(\"What is your base\"))\n",
    "        B = float(input(\"What is your altitude\"))\n",
    "        C = float((A * B))\n",
    "        print(c)\n",
    "    def cube(self):\n",
    "        A = float(input(\"What is your length\"))\n",
    "        B = float((6 * (A**2)))\n",
    "        print(b)\n",
    "        \n",
    "    def cylinder(self):\n",
    "        A = float(input(\"What is your radius\"))\n",
    "        B = float(input(\"What is your height\"))\n",
    "        C = float((22/7)*(A**2)*B)\n",
    "        print(c)\n",
    "        \n",
    "E = print(input(\"\\n1 for trapezium, \\n2 for rhombus, \\n3 for pallelogram, \\n4 for cube, \\n5 for cylinder \"))\n",
    "    if E == 1:\n",
    "        d.Trapezium\n",
    "    elif E == 2:\n",
    "        d.rhombus\n",
    "    elif E == 3:\n",
    "        d.parallelogram\n",
    "    elif E == 4:\n",
    "        d.cube\n",
    "    elif E == 5:\n",
    "        d.cylinder\n",
    "print(E)\n",
    "d = Equation()\n"
   ]
  }
 ],
 "metadata": {
  "kernelspec": {
   "display_name": "Python 3 (ipykernel)",
   "language": "python",
   "name": "python3"
  },
  "language_info": {
   "codemirror_mode": {
    "name": "ipython",
    "version": 3
   },
   "file_extension": ".py",
   "mimetype": "text/x-python",
   "name": "python",
   "nbconvert_exporter": "python",
   "pygments_lexer": "ipython3",
   "version": "3.10.9"
  }
 },
 "nbformat": 4,
 "nbformat_minor": 5
}
