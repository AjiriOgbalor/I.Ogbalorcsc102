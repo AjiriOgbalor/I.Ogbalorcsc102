{
 "cells": [
  {
   "cell_type": "code",
   "execution_count": 8,
   "id": "8e0c7ceb",
   "metadata": {},
   "outputs": [
    {
     "name": "stdout",
     "output_type": "stream",
     "text": [
      "No of students pls: 1\n",
      "Enter student info 1\n",
      "Enter your name: qwerty\n",
      "Enter your matriculation number: 12345678\n",
      "Enter your department: qwe\n",
      "Enter your level: 123\n",
      "\n",
      "Students info:\n",
      "     name  matriculation_no Department  level\n",
      "0  qwerty          12345678        qwe    123\n",
      "Enter the excel file nameasd\n",
      "Nicely done\n"
     ]
    }
   ],
   "source": [
    "import pandas as pd\n",
    "class Student:\n",
    "    def __init__(self,name, matriculation_no, Department, level):\n",
    "        self.name = name\n",
    "        self.matriculation_no = matriculation_no\n",
    "        self.Department = Department\n",
    "        self.level = level\n",
    "def create_student():\n",
    "        name = input(\"Enter your name: \")\n",
    "        matriculation_no = int(input(\"Enter your matriculation number: \"))\n",
    "        Department = input(\"Enter your department: \")\n",
    "        level = int(input(\"Enter your level: \"))\n",
    "        return Student(name, matriculation_no, Department, level)\n",
    "def Just_work(dataframe):\n",
    "        filename = input(\"Enter the excel file name\")\n",
    "        dataframe.to_excel(filename + \".xlsx\", index=False)\n",
    "        print(\"Nicely done\")\n",
    "def Lord():\n",
    "    students = []\n",
    "    num_students = int(input(\"No of students pls: \"))\n",
    "    \n",
    "    for _ in range(num_students):\n",
    "        print(\"Enter student info\", _ + 1)\n",
    "        student = create_student()\n",
    "        students.append(student)\n",
    "        \n",
    "        data = {\n",
    "            \"name\": [student.name for student in students],\n",
    "            \"matriculation_no\": [student.matriculation_no for student in students],\n",
    "            \"Department\": [student.Department for student in students],\n",
    "            \"level\": [student.level for student in students]               \n",
    "        }\n",
    "        \n",
    "    df = pd.DataFrame(data)\n",
    "    print(\"\\nStudents info:\")\n",
    "    print(df)\n",
    "        \n",
    "    Just_work(df)\n",
    "        \n",
    "if __name__ == \"__main__\":\n",
    "    Lord()"
   ]
  },
  {
   "cell_type": "code",
   "execution_count": 11,
   "id": "9371caaa",
   "metadata": {},
   "outputs": [
    {
     "name": "stdout",
     "output_type": "stream",
     "text": [
      "\n",
      "Company information:\n",
      "    Company  Founding Year  Assets  Liabilities  Leverage\n",
      "0     Enron           1987  100000        80000      80.0\n",
      "1  Anderson           1936   50000        30000      60.0\n",
      "2  GK Jones           2001  200000       180000      90.0\n",
      "3      Mica           1996  150000       120000      80.0\n",
      "4      Dune           2008  250000       200000      80.0\n",
      "Enter file name: add\n",
      "Nicely done\n"
     ]
    }
   ],
   "source": [
    "import pandas as pd\n",
    "\n",
    "def company_file():\n",
    "    companydata = {\n",
    "        \"Company\": [\"Enron\", \"Anderson\", \"GK Jones\", \"Mica\", \"Dune\"],\n",
    "        \"Founding Year\": [1987, 1936, 2001, 1996, 2008],\n",
    "        \"Assets\": [100000, 50000, 200000, 150000, 250000],\n",
    "        \"Liabilities\": [80000, 30000, 180000, 120000, 200000]\n",
    "    }\n",
    "    \n",
    "    df = pd.DataFrame(companydata)\n",
    "    df[\"Leverage\"] = (df[\"Liabilities\"] / df[\"Assets\"]) * 100\n",
    "    return df\n",
    "\n",
    "def work(dataframe):\n",
    "    filename = input(\"Enter file name: \")\n",
    "    dataframe.to_excel(filename + \".xlsx\", index=False)\n",
    "    print(\"Nicely done\")\n",
    "    \n",
    "def Lord():\n",
    "    company_df = company_file()\n",
    "    print(\"\\nCompany information:\")\n",
    "    print(company_df)\n",
    "    \n",
    "    work(company_df)\n",
    "    \n",
    "if __name__ == \"__main__\":\n",
    "    Lord()"
   ]
  },
  {
   "cell_type": "code",
   "execution_count": null,
   "id": "ff4f49a2",
   "metadata": {},
   "outputs": [],
   "source": []
  }
 ],
 "metadata": {
  "kernelspec": {
   "display_name": "Python 3 (ipykernel)",
   "language": "python",
   "name": "python3"
  },
  "language_info": {
   "codemirror_mode": {
    "name": "ipython",
    "version": 3
   },
   "file_extension": ".py",
   "mimetype": "text/x-python",
   "name": "python",
   "nbconvert_exporter": "python",
   "pygments_lexer": "ipython3",
   "version": "3.10.9"
  }
 },
 "nbformat": 4,
 "nbformat_minor": 5
}
