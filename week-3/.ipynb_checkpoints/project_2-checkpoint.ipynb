{
 "cells": [
  {
   "cell_type": "code",
   "execution_count": 12,
   "id": "213641df",
   "metadata": {},
   "outputs": [
    {
     "name": "stdout",
     "output_type": "stream",
     "text": [
      "what is your coefficient of x'34\n",
      "What is your coefficient of x'25\n",
      "what is your coefficient of x6\n",
      "what is your constant D3\n",
      "(-5.852626540874426+0.6188826141388359j)\n",
      "(5.723678537965792-0.3955381215665427j)\n",
      "(6.795614669575301-0.22334449257229322j)\n"
     ]
    }
   ],
   "source": [
    "A = input(\"what is your coefficient of x'3\")\n",
    "e = float(A)\n",
    "B = input(\"What is your coefficient of x'2\")\n",
    "f = float(B)\n",
    "C = input(\"what is your coefficient of x\")\n",
    "g = float(C)\n",
    "h = float(input(\"what is your constant D\"))\n",
    "#h = float(D)\n",
    "q = (((3*e*g) - f**2))/(9*(e**2))\n",
    "r = ((9*e*f*g) - ((27*(e**2)*h)) - ((2*(f**3))))/(54*(e**3))\n",
    "S = ((r + (((q**3)+(r**2))**(1/2)))**(1/3))\n",
    "T = ((r - (((q**3)+(r**2))**(1/2)))**(1/3))\n",
    "X = ((S + T) - (f/3*e))\n",
    "Y = -(((S + T)/2) - (f/3*e) + ((((-1)**(1/2))*((3)**(1/2)))/2)*(S - T))\n",
    "Z = -(((S + T)/2) - (f/3*e) - ((((-1)**(1/2))*((3)**(1/2)))/2)*(S - T))\n",
    "print(\"Your roots of x are\")\n",
    "print(X)\n",
    "print(Y)\n",
    "print(Z)"
   ]
  },
  {
   "cell_type": "code",
   "execution_count": null,
   "id": "fbd71c28",
   "metadata": {},
   "outputs": [],
   "source": []
  },
  {
   "cell_type": "code",
   "execution_count": null,
   "id": "b3ad5e26",
   "metadata": {},
   "outputs": [],
   "source": []
  },
  {
   "cell_type": "code",
   "execution_count": null,
   "id": "a0766844",
   "metadata": {},
   "outputs": [],
   "source": []
  }
 ],
 "metadata": {
  "kernelspec": {
   "display_name": "Python 3 (ipykernel)",
   "language": "python",
   "name": "python3"
  },
  "language_info": {
   "codemirror_mode": {
    "name": "ipython",
    "version": 3
   },
   "file_extension": ".py",
   "mimetype": "text/x-python",
   "name": "python",
   "nbconvert_exporter": "python",
   "pygments_lexer": "ipython3",
   "version": "3.10.9"
  }
 },
 "nbformat": 4,
 "nbformat_minor": 5
}
