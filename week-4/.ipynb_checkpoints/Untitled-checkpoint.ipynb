{
 "cells": [
  {
   "cell_type": "code",
   "execution_count": 1,
   "id": "e5de2163",
   "metadata": {},
   "outputs": [
    {
     "name": "stdout",
     "output_type": "stream",
     "text": [
      "10\n",
      "20\n",
      "30\n",
      "40\n",
      "50\n"
     ]
    }
   ],
   "source": [
    "count = [10,20,30,40,50]\n",
    "for num in count:\n",
    "    print(num)"
   ]
  },
  {
   "cell_type": "code",
   "execution_count": 2,
   "id": "a3b32eee",
   "metadata": {},
   "outputs": [
    {
     "name": "stdout",
     "output_type": "stream",
     "text": [
      "10\n",
      "20\n",
      "30\n",
      "40\n"
     ]
    }
   ],
   "source": [
    "for num in range(5):\n",
    "    if num > 0:\n",
    "        print(num * 10)"
   ]
  },
  {
   "cell_type": "code",
   "execution_count": 3,
   "id": "3b3e893a",
   "metadata": {},
   "outputs": [
    {
     "name": "stdout",
     "output_type": "stream",
     "text": [
      "1\n",
      "2\n",
      "3\n",
      "4\n",
      "5\n"
     ]
    }
   ],
   "source": [
    "count = 1\n",
    "while count <= 5:\n",
    "    print(count)\n",
    "    count += 1"
   ]
  },
  {
   "cell_type": "code",
   "execution_count": 4,
   "id": "f5fa2d36",
   "metadata": {},
   "outputs": [
    {
     "name": "stdout",
     "output_type": "stream",
     "text": [
      "Enter numbers to find their sum, negative number ends the loop:\n",
      "5\n",
      "7\n",
      "5\n",
      "6\n",
      "89\n",
      "8\n",
      "-1\n",
      "Sum = 120\n"
     ]
    }
   ],
   "source": [
    "entry = 0\n",
    "sum1 = 0\n",
    "print(\"Enter numbers to find their sum, negative number ends the loop:\")\n",
    "while True:\n",
    "    entry = int(input())\n",
    "    if (entry < 0):\n",
    "        break \n",
    "    sum1 += entry\n",
    "print(\"Sum =\", sum1)"
   ]
  },
  {
   "cell_type": "code",
   "execution_count": 24,
   "id": "f672f857",
   "metadata": {},
   "outputs": [],
   "source": [
    "num = 0\n",
    "for num in range(6 ):\n",
    "    num = num + 1\n",
    "    if num == 3:\n",
    "        continue\n",
    "        print('Num has value '+ str(num))\n",
    "        print('End of loop')"
   ]
  },
  {
   "cell_type": "code",
   "execution_count": 9,
   "id": "e4c767a6",
   "metadata": {},
   "outputs": [
    {
     "name": "stdout",
     "output_type": "stream",
     "text": [
      "Iteration 1of outer loop\n",
      "1\n",
      "2\n",
      "Out of inner loop\n",
      "Iteration 2of outer loop\n",
      "1\n",
      "2\n",
      "Out of inner loop\n",
      "Iteration 3of outer loop\n",
      "1\n",
      "2\n",
      "Out of inner loop\n",
      "Out of outer loop\n"
     ]
    }
   ],
   "source": [
    "for var1 in range(3):\n",
    "    print( \"Iteration \" + str(var1 + 1) + \"of outer loop\")\n",
    "    for var2 in range(2):\n",
    "        print(var2 + 1)\n",
    "    print(\"Out of inner loop\")\n",
    "print(\"Out of outer loop\")"
   ]
  },
  {
   "cell_type": "code",
   "execution_count": 12,
   "id": "97efd6a0",
   "metadata": {},
   "outputs": [
    {
     "name": "stdout",
     "output_type": "stream",
     "text": [
      "Enter name of city 1:kk\n",
      "Enter name of city 2:baka\n",
      "The name of city 1 after swapping is baka\n",
      "The name of city 2 after swapping is kk\n"
     ]
    }
   ],
   "source": [
    "city_1 = input('Enter name of city 1:')\n",
    "city_2 = input('Enter name of city 2:')\n",
    "\n",
    "temp = city_1\n",
    "city_1 = city_2\n",
    "city_2 = temp\n",
    "\n",
    "print(f\"The name of city 1 after swapping is {city_1}\")\n",
    "print(f\"The name of city 2 after swapping is {city_2}\")"
   ]
  },
  {
   "cell_type": "code",
   "execution_count": 16,
   "id": "a8deea60",
   "metadata": {},
   "outputs": [
    {
     "name": "stdout",
     "output_type": "stream",
     "text": [
      "Enter a number: 0\n",
      "Zero\n"
     ]
    }
   ],
   "source": [
    "num = float(input(\"Enter a number: \"))\n",
    "if num > 0:\n",
    "    print(\"Positive number\")\n",
    "elif num == 0:\n",
    "        print(\"Zero\")\n",
    "else:\n",
    "    print(\"Negative number\")"
   ]
  },
  {
   "cell_type": "code",
   "execution_count": 35,
   "id": "2aeb7038",
   "metadata": {},
   "outputs": [
    {
     "name": "stdout",
     "output_type": "stream",
     "text": [
      "Welcome to the COUPE DE ESCRIVA 2023: FOOTBALL PICKS \n",
      "\n",
      "Madiba: Chubby OPbiora-Okafa\n",
      "\n",
      "\n",
      "Madiba:  Chubby Obiara-Okafo\n",
      "Blue-Jays:  Oladimeji Abaniwondea/Jeffery Awagu\n",
      "Cirok:  Timileyin Pearse/Izuako Jeremy\n",
      "TSG Walkers:  Ayomide Ojituku\n",
      "Blue-Jays:  Christopher UwehAlexander\n",
      "\n",
      "\n",
      "Madiba:  Chubby Obiara-Okafo\n",
      "Blue-Jays:  Oladimeji Abaniwondea/Jeffery Awagu\n",
      "Cirok:  Timileyin Pearse/Izuako Jeremy\n",
      "TSG Walkers:  Ayomide Ojituku\n",
      "TSG Walkers:  Ikechukwu\n",
      "\n",
      "\n",
      "Madiba:  Chubby Obiara-Okafo\n",
      "Blue-Jays:  Oladimeji Abaniwondea/Jeffery Awagu\n",
      "Cirok:  Timileyin Pearse/Izuako Jeremy\n",
      "TSG Walkers:  Ayomide Ojituku\n"
     ]
    }
   ],
   "source": [
    "print(\"Welcome to the COUPE DE ESCRIVA 2023: FOOTBALL PICKS \\n\")\n",
    "\n",
    "captain = {'Madiba:': 'Chubby OPbiora-Okafa', 'Blue-Jays: ': 'Christopher Uweh'\n",
    "           'Alexander', 'TSG Walkers: ': 'Ikechukwu'}\n",
    "\n",
    "goalkeepers = {'Madiba: ': 'Chubby Obiara-Okafo',\n",
    "              'Blue-Jays: ': 'Oladimeji Abaniwondea/Jeffery Awagu',\n",
    "              'Cirok: ': 'Timileyin Pearse/Izuako Jeremy',\n",
    "              'TSG Walkers: ': 'Ayomide Ojituku'}\n",
    "\n",
    "for pick in captain:\n",
    "    print(pick, captain[pick])\n",
    "    \n",
    "    print(\"\\n\")\n",
    "    \n",
    "    for pick in goalkeepers:\n",
    "        print(pick, goalkeepers[pick])\n"
   ]
  },
  {
   "cell_type": "code",
   "execution_count": 57,
   "id": "49c8aa95",
   "metadata": {
    "scrolled": false
   },
   "outputs": [
    {
     "name": "stdout",
     "output_type": "stream",
     "text": [
      "Girls:\n",
      "Girl_names  G_age  G_height  G_score\n",
      "  Samnatha     17       5.5       80\n",
      "      Jada     16       6.0       85\n",
      "      Jane     17       5.4       70\n",
      "    Claire     18       5.9       60\n",
      " Elizabeth     16       5.6       76\n",
      "      Mary     18       5.5       66\n",
      "     Susan     17       6.1       87\n",
      "      Waje     20       6.0       95\n",
      "    Taibat     19       5.7       50\n",
      "    Lilian     17       5.5       49\n",
      "\n",
      "boys:\n",
      "Boys_names  B_age  B_height  B_score\n",
      "   Charles     19       5.7       72\n",
      "      Jude     16       5.9       87\n",
      "     James     18       5.8       75\n",
      "    Kelvin     17       6.1       68\n",
      "    Biodun     20       5.9       66\n",
      "      Wale     19       5.5       78\n",
      "     Kunle     16       6.1       87\n",
      "   Matthew     18       5.4       98\n",
      "       Tom     17       5.8       54\n",
      "    Kayode     19       5.7       60\n"
     ]
    }
   ],
   "source": [
    "import pandas as pd\n",
    "\n",
    "girls = pd.DataFrame({\n",
    "    'Girl_names': ['Samnatha', 'Jada', 'Jane', 'Claire', 'Elizabeth', 'Mary', 'Susan', 'Waje', 'Taibat', 'Lilian'],\n",
    "    'G_age': [ 17, 16, 17, 18, 16, 18, 17, 20, 19, 17],\n",
    "    'G_height': [5.5, 6.0, 5.4, 5.9, 5.6, 5.5, 6.1, 6.0, 5.7, 5.5],\n",
    "    'G_score': [80, 85, 70, 60, 76, 66, 87, 95, 50, 49]})\n",
    "boys = pd.DataFrame({\n",
    "    'Boys_names': ['Charles', 'Jude', 'James', 'Kelvin', 'Biodun', 'Wale', 'Kunle', 'Matthew', 'Tom', 'Kayode'],\n",
    "    'B_age': [19, 16, 18, 17, 20, 19, 16, 18, 17, 19],\n",
    "    'B_height': [5.7, 5.9, 5.8, 6.1, 5.9, 5.5, 6.1, 5.4, 5.8, 5.7],\n",
    "    'B_score': [72, 87, 75, 68, 66, 78, 87, 98, 54, 60]})\n",
    "\n",
    "print(\"Girls:\")\n",
    "print(girls.to_string(index=False))\n",
    "\n",
    "print(\"\\nboys:\")\n",
    "print(boys.to_string(index=False))\n"
   ]
  },
  {
   "cell_type": "code",
   "execution_count": 2,
   "id": "38fa0395",
   "metadata": {},
   "outputs": [
    {
     "ename": "SyntaxError",
     "evalue": "expected ':' (3195238762.py, line 45)",
     "output_type": "error",
     "traceback": [
      "\u001b[1;36m  Cell \u001b[1;32mIn[2], line 45\u001b[1;36m\u001b[0m\n\u001b[1;33m    elif value_B < 1\u001b[0m\n\u001b[1;37m                    ^\u001b[0m\n\u001b[1;31mSyntaxError\u001b[0m\u001b[1;31m:\u001b[0m expected ':'\n"
     ]
    }
   ],
   "source": [
    "Value_A = input(\"How many years of experience do you have\")\n",
    "print(Value_A)\n",
    "if Value_A >= 25:\n",
    "    value_B = input(\"How old are you\") \n",
    "    print(value_B)\n",
    "    if  value_B >= 55:   \n",
    "        print(A)\n",
    "        A = (\"Your annual tax revenue is #5,600,000\")\n",
    "    elif value_B < 55:\n",
    "        print (B)\n",
    "        B = (\"That's beyond my pay grade\")\n",
    "elif 20 < value_A <= 24:\n",
    "    value_B = input(\"How old are you\")\n",
    "    print(Value_B)\n",
    "    if  54 <= value_B <= 45:\n",
    "        print(A)\n",
    "        A = (\"Your annual tax revenue is #4,480,000\")\n",
    "    elif value_B < 55:\n",
    "        print (B)\n",
    "        B = (\"That's beyond my pay grade\")\n",
    "elif 10 < value_A <= 19:\n",
    "    value_B = input(\"How old are you\")\n",
    "    print(Value_B)\n",
    "    if  45 < value_B <= 35:\n",
    "        print(A)\n",
    "        A = (\"Your annual tax revenue is #1,500,000\")\n",
    "    elif value_B < 55:\n",
    "        print (B)\n",
    "        B = (\"That's beyond my pay grade\")\n",
    "elif 10 < value_A <= 19:\n",
    "    value_B = input(\"How old are you\")\n",
    "    print(Value_B)\n",
    "    if  45 < value_B <= 35:\n",
    "        print(A)\n",
    "        A = (\"Your annual tax revenue is #1,500,000\")\n",
    "    elif value_B < 55:\n",
    "        print (B)\n",
    "        B = (\"That's beyond my pay grade\")\n",
    "elif value_A < 10:\n",
    "    value_B = input(\"How old are you\")\n",
    "    print(Value_B)\n",
    "    if value_B <= 34:\n",
    "        print(A)\n",
    "        A = (\"Your annual tax revenue is #550,000\")\n",
    "    elif value_B < 1:\n",
    "        print (B)\n",
    "        B = (\"That's beyond my pay grade\")\n",
    "else:\n",
    "    print(C)\n",
    "    C = (\"let me have peace\")\n",
    "\n",
    "\n",
    "    "
   ]
  },
  {
   "cell_type": "code",
   "execution_count": null,
   "id": "9a70f35c",
   "metadata": {},
   "outputs": [],
   "source": []
  },
  {
   "cell_type": "code",
   "execution_count": null,
   "id": "b65fca49",
   "metadata": {},
   "outputs": [],
   "source": []
  }
 ],
 "metadata": {
  "kernelspec": {
   "display_name": "Python 3 (ipykernel)",
   "language": "python",
   "name": "python3"
  },
  "language_info": {
   "codemirror_mode": {
    "name": "ipython",
    "version": 3
   },
   "file_extension": ".py",
   "mimetype": "text/x-python",
   "name": "python",
   "nbconvert_exporter": "python",
   "pygments_lexer": "ipython3",
   "version": "3.10.9"
  }
 },
 "nbformat": 4,
 "nbformat_minor": 5
}
