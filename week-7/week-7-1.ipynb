{
 "cells": [
  {
   "cell_type": "code",
   "execution_count": 1,
   "id": "9090c952",
   "metadata": {},
   "outputs": [
    {
     "name": "stdout",
     "output_type": "stream",
     "text": [
      "girls:\n",
      "\n",
      "boys:\n"
     ]
    }
   ],
   "source": [
    "import pandas as pd\n",
    "\n",
    "girls = pd.DataFrame({\n",
    "    'Girl_names': ['Samnatha', 'Jada', 'Jane', 'Claire', 'Elizabeth', 'Mary', 'Susan', 'Waje', 'Taibat', 'Lilian'],\n",
    "    'G_age': [ 17, 16, 17, 18, 16, 18, 17, 20, 19, 17],\n",
    "    'G_height': [5.5, 6.0, 5.4, 5.9, 5.6, 5.5, 6.1, 6.0, 5.7, 5.5],\n",
    "    'G_score': [80, 85, 70, 60, 76, 66, 87, 95, 50, 49]})\n",
    "boys = pd.DataFrame({\n",
    "    'Boys_names': ['Charles', 'Jude', 'James', 'Kelvin', 'Biodun', 'Wale', 'Kunle', 'Matthew', 'Tom', 'Kayode'],\n",
    "    'B_age': [19, 16, 18, 17, 20, 19, 16, 18, 17, 19],\n",
    "    'B_height': [5.7, 5.9, 5.8, 6.1, 5.9, 5.5, 6.1, 5.4, 5.8, 5.7],\n",
    "    'B_score': [72, 87, 75, 68, 66, 78, 87, 98, 54, 60]})\n",
    "\n",
    "print(\"girls:\")\n",
    "print(girls.to_string(index=False))\n",
    "\n",
    "print(\"\\nboys:\")\n",
    "print(boys.to_string(index=False))\n"
   ]
  },
  {
   "cell_type": "code",
   "execution_count": null,
   "id": "5cf16683",
   "metadata": {},
   "outputs": [],
   "source": [
    "print(\"Welcome to the COUPE DE ESCRIVA 2023: FOOTBALL PICKS \\n\")\n",
    "\n",
    "captain = {'Madiba:': 'Chubby OPbiora-Okafa', 'Blue-Jays: ': 'Christopher Uweh'\n",
    "           'Alexander', 'TSG Walkers: ': 'Ikechukwu'}\n",
    "\n",
    "goalkeepers = {'Madiba: ': 'Chubby Obiara-Okafo',\n",
    "              'Blue-Jays: ': 'Oladimeji Abaniwondea/Jeffery Awagu',\n",
    "              'Cirok: ': 'Timileyin Pearse/Izuako Jeremy',\n",
    "              'TSG Walkers: ': 'Ayomide Ojituku'}\n",
    "\n",
    "for pick in captain:\n",
    "    print(pick, captain[pick])\n",
    "    \n",
    "    print(\"\\n\")\n",
    "    \n",
    "    for pick in goalkeepers:\n",
    "        print(pick, goalkeepers[pick])\n"
   ]
  },
  {
   "cell_type": "code",
   "execution_count": 5,
   "id": "0828ec3d",
   "metadata": {},
   "outputs": [
    {
     "name": "stdout",
     "output_type": "stream",
     "text": [
      "Enter a number: 6\n",
      "Positive number\n"
     ]
    }
   ],
   "source": [
    "num = float(input(\"Enter a number: \"))\n",
    "if num > 0:\n",
    "    print(\"Positive number\")\n",
    "elif num == 0:\n",
    "        print(\"Zero\")\n",
    "else:\n",
    "    print(\"Negative number\")"
   ]
  },
  {
   "cell_type": "code",
   "execution_count": null,
   "id": "d16e2396",
   "metadata": {},
   "outputs": [],
   "source": []
  }
 ],
 "metadata": {
  "kernelspec": {
   "display_name": "Python 3 (ipykernel)",
   "language": "python",
   "name": "python3"
  },
  "language_info": {
   "codemirror_mode": {
    "name": "ipython",
    "version": 3
   },
   "file_extension": ".py",
   "mimetype": "text/x-python",
   "name": "python",
   "nbconvert_exporter": "python",
   "pygments_lexer": "ipython3",
   "version": "3.10.9"
  }
 },
 "nbformat": 4,
 "nbformat_minor": 5
}
